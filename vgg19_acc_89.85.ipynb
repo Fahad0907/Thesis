{
 "cells": [
  {
   "cell_type": "code",
   "execution_count": 63,
   "metadata": {},
   "outputs": [],
   "source": [
    "import tensorflow as tf\n",
    "from tensorflow.keras.layers import Input, Lambda, Dense, Flatten\n",
    "from tensorflow.keras.models import Model\n",
    "from tensorflow.keras.applications.vgg19 import VGG19\n",
    "from tensorflow.keras.applications.vgg16 import preprocess_input\n",
    "from tensorflow.keras.preprocessing import image\n",
    "from tensorflow.keras.preprocessing.image import ImageDataGenerator\n",
    "from tensorflow.keras.models import Sequential"
   ]
  },
  {
   "cell_type": "code",
   "execution_count": 64,
   "metadata": {},
   "outputs": [],
   "source": [
    "IMAGE_SIZE = [224, 224]\n",
    "vgg = VGG19(input_shape=IMAGE_SIZE + [3], weights='imagenet', include_top=False)\n"
   ]
  },
  {
   "cell_type": "code",
   "execution_count": 65,
   "metadata": {},
   "outputs": [],
   "source": [
    "for layer in vgg.layers:\n",
    "  layer.trainable = False"
   ]
  },
  {
   "cell_type": "code",
   "execution_count": 66,
   "metadata": {},
   "outputs": [],
   "source": [
    "x = Flatten()(vgg.output)\n",
    "x = Dense(512, activation='relu', name='fc')(x)\n",
    "prediction = Dense(46, activation='softmax', name='prediction')(x)\n",
    "model = Model(inputs=vgg.input, outputs=prediction)"
   ]
  },
  {
   "cell_type": "code",
   "execution_count": 67,
   "metadata": {},
   "outputs": [],
   "source": [
    "model.compile(\n",
    "  loss='categorical_crossentropy',\n",
    "  optimizer='adam',\n",
    "  metrics=['accuracy']\n",
    ")"
   ]
  },
  {
   "cell_type": "code",
   "execution_count": 68,
   "metadata": {},
   "outputs": [],
   "source": [
    "from keras.preprocessing.image import ImageDataGenerator\n",
    "train_datagen = ImageDataGenerator(rescale=1./255,\n",
    "    shear_range=0.2,\n",
    "    zoom_range=0.2,\n",
    "    horizontal_flip=False,\n",
    "    vertical_flip=False,\n",
    "    #validation_split=0.2\n",
    "                                  )\n",
    "test_datagen = ImageDataGenerator(rescale = 1./255)\n"
   ]
  },
  {
   "cell_type": "code",
   "execution_count": 69,
   "metadata": {},
   "outputs": [
    {
     "name": "stdout",
     "output_type": "stream",
     "text": [
      "Found 2127 images belonging to 46 classes.\n",
      "Found 532 images belonging to 46 classes.\n"
     ]
    }
   ],
   "source": [
    "training_set = train_datagen.flow_from_directory('charAndDig_dataset/train',\n",
    "                                                 target_size=(224,224),\n",
    "                                                 batch_size=32,\n",
    "                                                 class_mode='categorical')\n",
    "test_set = test_datagen.flow_from_directory('charAndDig_dataset/test', \n",
    "                                            target_size=(224,224),\n",
    "                                            batch_size=32,\n",
    "                                            class_mode='categorical')\n"
   ]
  },
  {
   "cell_type": "code",
   "execution_count": 70,
   "metadata": {},
   "outputs": [
    {
     "name": "stdout",
     "output_type": "stream",
     "text": [
      "Epoch 1/20\n",
      "67/67 [==============================] - 20s 294ms/step - loss: 4.3734 - accuracy: 0.1622 - val_loss: 2.4879 - val_accuracy: 0.3553\n",
      "Epoch 2/20\n",
      "67/67 [==============================] - 19s 291ms/step - loss: 1.8161 - accuracy: 0.5703 - val_loss: 1.3653 - val_accuracy: 0.6711\n",
      "Epoch 3/20\n",
      "67/67 [==============================] - 19s 287ms/step - loss: 0.9556 - accuracy: 0.7786 - val_loss: 1.0082 - val_accuracy: 0.7199\n",
      "Epoch 4/20\n",
      "67/67 [==============================] - 19s 288ms/step - loss: 0.6027 - accuracy: 0.8594 - val_loss: 0.7829 - val_accuracy: 0.7838\n",
      "Epoch 5/20\n",
      "67/67 [==============================] - 19s 288ms/step - loss: 0.3812 - accuracy: 0.9191 - val_loss: 0.7559 - val_accuracy: 0.7763\n",
      "Epoch 6/20\n",
      "67/67 [==============================] - 19s 288ms/step - loss: 0.2795 - accuracy: 0.9431 - val_loss: 0.6294 - val_accuracy: 0.8045\n",
      "Epoch 7/20\n",
      "67/67 [==============================] - 19s 289ms/step - loss: 0.2114 - accuracy: 0.9643 - val_loss: 0.5667 - val_accuracy: 0.8402\n",
      "Epoch 8/20\n",
      "67/67 [==============================] - 19s 288ms/step - loss: 0.1594 - accuracy: 0.9727 - val_loss: 0.4959 - val_accuracy: 0.8665\n",
      "Epoch 9/20\n",
      "67/67 [==============================] - 19s 289ms/step - loss: 0.1144 - accuracy: 0.9845 - val_loss: 0.4629 - val_accuracy: 0.8553\n",
      "Epoch 10/20\n",
      "67/67 [==============================] - 19s 289ms/step - loss: 0.0977 - accuracy: 0.9854 - val_loss: 0.4882 - val_accuracy: 0.8609\n",
      "Epoch 11/20\n",
      "67/67 [==============================] - 19s 287ms/step - loss: 0.0766 - accuracy: 0.9901 - val_loss: 0.4531 - val_accuracy: 0.8590\n",
      "Epoch 12/20\n",
      "67/67 [==============================] - 19s 287ms/step - loss: 0.0564 - accuracy: 0.9962 - val_loss: 0.4068 - val_accuracy: 0.8759\n",
      "Epoch 13/20\n",
      "67/67 [==============================] - 19s 288ms/step - loss: 0.0389 - accuracy: 0.9976 - val_loss: 0.4119 - val_accuracy: 0.8853\n",
      "Epoch 14/20\n",
      "67/67 [==============================] - 19s 290ms/step - loss: 0.0416 - accuracy: 0.9958 - val_loss: 0.3914 - val_accuracy: 0.8929\n",
      "Epoch 15/20\n",
      "67/67 [==============================] - 19s 288ms/step - loss: 0.0338 - accuracy: 0.9962 - val_loss: 0.3867 - val_accuracy: 0.8891\n",
      "Epoch 16/20\n",
      "67/67 [==============================] - 19s 290ms/step - loss: 0.0254 - accuracy: 1.0000 - val_loss: 0.4181 - val_accuracy: 0.8797\n",
      "Epoch 17/20\n",
      "67/67 [==============================] - 19s 287ms/step - loss: 0.0476 - accuracy: 0.9911 - val_loss: 0.4294 - val_accuracy: 0.8759\n",
      "Epoch 18/20\n",
      "67/67 [==============================] - 19s 287ms/step - loss: 0.0372 - accuracy: 0.9929 - val_loss: 0.4724 - val_accuracy: 0.8816\n",
      "Epoch 19/20\n",
      "67/67 [==============================] - 19s 289ms/step - loss: 0.0256 - accuracy: 0.9958 - val_loss: 0.4471 - val_accuracy: 0.8872\n",
      "Epoch 20/20\n",
      "67/67 [==============================] - 19s 290ms/step - loss: 0.0213 - accuracy: 0.9972 - val_loss: 0.3700 - val_accuracy: 0.8985\n"
     ]
    }
   ],
   "source": [
    "r = model.fit_generator(\n",
    "  training_set,\n",
    "  validation_data=test_set,\n",
    "  epochs=20,\n",
    "  steps_per_epoch=len(training_set),\n",
    "  validation_steps=len(test_set)\n",
    ")"
   ]
  },
  {
   "cell_type": "code",
   "execution_count": 72,
   "metadata": {},
   "outputs": [
    {
     "data": {
      "image/png": "[encoded data removed]",
      "text/plain": [
       "<Figure size 432x288 with 1 Axes>"
      ]
     },
     "metadata": {
      "needs_background": "light"
     },
     "output_type": "display_data"
    },
    {
     "data": {
      "text/plain": [
       "<Figure size 432x288 with 0 Axes>"
      ]
     },
     "metadata": {},
     "output_type": "display_data"
    }
   ],
   "source": [
    "import matplotlib.pyplot as plt\n",
    "plt.plot(r.history['loss'], label='train loss')\n",
    "plt.plot(r.history['val_loss'], label='val loss')\n",
    "plt.legend()\n",
    "plt.show()\n",
    "plt.savefig('LossVal_loss')"
   ]
  },
  {
   "cell_type": "code",
   "execution_count": 73,
   "metadata": {},
   "outputs": [
    {
     "data": {
      "image/png": "[encoded data removed]",
      "text/plain": [
       "<Figure size 432x288 with 1 Axes>"
      ]
     },
     "metadata": {
      "needs_background": "light"
     },
     "output_type": "display_data"
    },
    {
     "data": {
      "text/plain": [
       "<Figure size 432x288 with 0 Axes>"
      ]
     },
     "metadata": {},
     "output_type": "display_data"
    }
   ],
   "source": [
    "plt.plot(r.history['accuracy'], label='train acc')\n",
    "plt.plot(r.history['val_accuracy'], label='val acc')\n",
    "plt.legend()\n",
    "plt.show()\n",
    "plt.savefig('AccVal_acc')"
   ]
  },
  {
   "cell_type": "code",
   "execution_count": 75,
   "metadata": {},
   "outputs": [],
   "source": [
    "model.save('vgg19_acc_89.85.h5')"
   ]
  },
  {
   "cell_type": "code",
   "execution_count": null,
   "metadata": {},
   "outputs": [],
   "source": []
  }
 ],
 "metadata": {
  "kernelspec": {
   "display_name": "TensorFlow",
   "language": "python",
   "name": "tensorflow"
  },
  "language_info": {
   "codemirror_mode": {
    "name": "ipython",
    "version": 3
   },
   "file_extension": ".py",
   "mimetype": "text/x-python",
   "name": "python",
   "nbconvert_exporter": "python",
   "pygments_lexer": "ipython3",
   "version": "3.8.5"
  }
 },
 "nbformat": 4,
 "nbformat_minor": 4
}

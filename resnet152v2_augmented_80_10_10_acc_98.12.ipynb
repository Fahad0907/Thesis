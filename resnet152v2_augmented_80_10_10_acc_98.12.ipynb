{
 "cells": [
  {
   "cell_type": "code",
   "execution_count": 17,
   "metadata": {},
   "outputs": [],
   "source": [
    "import tensorflow\n",
    "from tensorflow.keras.preprocessing import image\n",
    "from tensorflow.keras.models import Model\n",
    "from tensorflow.keras.layers import Dense, GlobalAveragePooling2D"
   ]
  },
  {
   "cell_type": "code",
   "execution_count": 18,
   "metadata": {},
   "outputs": [],
   "source": [
    "IMAGE_SIZE = [224, 224]\n",
    "res = tensorflow.keras.applications.ResNet152V2(input_shape=IMAGE_SIZE + [3], weights='imagenet', include_top=False)"
   ]
  },
  {
   "cell_type": "code",
   "execution_count": 19,
   "metadata": {},
   "outputs": [],
   "source": [
    "x = res.output\n",
    "x = GlobalAveragePooling2D()(x)\n",
    "x = Dense(1024, activation='relu')(x)\n",
    "predictions = Dense(46, activation='softmax')(x)\n",
    "model = Model(inputs=res.input, outputs=predictions)"
   ]
  },
  {
   "cell_type": "code",
   "execution_count": 20,
   "metadata": {},
   "outputs": [],
   "source": [
    "for layer in res.layers:\n",
    "    layer.trainable = False"
   ]
  },
  {
   "cell_type": "code",
   "execution_count": 21,
   "metadata": {},
   "outputs": [],
   "source": [
    "model.compile(\n",
    "  loss='categorical_crossentropy',\n",
    "  optimizer='adam',\n",
    "  metrics=['accuracy']\n",
    ")"
   ]
  },
  {
   "cell_type": "code",
   "execution_count": 22,
   "metadata": {},
   "outputs": [],
   "source": [
    "from tensorflow.keras.preprocessing.image import ImageDataGenerator\n",
    "\n",
    "train_datagen = ImageDataGenerator(rescale = 1./255)\n",
    "\n",
    "test_datagen = ImageDataGenerator(rescale = 1./255)"
   ]
  },
  {
   "cell_type": "code",
   "execution_count": 23,
   "metadata": {},
   "outputs": [
    {
     "name": "stdout",
     "output_type": "stream",
     "text": [
      "Found 14894 images belonging to 46 classes.\n",
      "Found 266 images belonging to 46 classes.\n"
     ]
    }
   ],
   "source": [
    "training_set = train_datagen.flow_from_directory('Datasets/augmented_dataset_80_10_10/train',\n",
    "                                                 target_size=(224,224),\n",
    "                                                 batch_size=32,\n",
    "                                                 class_mode='categorical')\n",
    "validation = test_datagen.flow_from_directory('Datasets/augmented_dataset_80_10_10/validation', \n",
    "                                            target_size=(224,224),\n",
    "                                            batch_size=32,\n",
    "                                            class_mode='categorical')"
   ]
  },
  {
   "cell_type": "code",
   "execution_count": 24,
   "metadata": {},
   "outputs": [
    {
     "name": "stdout",
     "output_type": "stream",
     "text": [
      "Epoch 1/25\n",
      "466/466 [==============================] - 102s 218ms/step - loss: 1.1710 - accuracy: 0.6673 - val_loss: 0.6109 - val_accuracy: 0.8233\n",
      "Epoch 2/25\n",
      "466/466 [==============================] - 100s 216ms/step - loss: 0.2950 - accuracy: 0.9082 - val_loss: 0.4668 - val_accuracy: 0.8496\n",
      "Epoch 3/25\n",
      "466/466 [==============================] - 101s 216ms/step - loss: 0.1498 - accuracy: 0.9542 - val_loss: 0.5069 - val_accuracy: 0.8534\n",
      "Epoch 4/25\n",
      "466/466 [==============================] - 102s 219ms/step - loss: 0.0983 - accuracy: 0.9711 - val_loss: 0.6216 - val_accuracy: 0.8008\n",
      "Epoch 5/25\n",
      "466/466 [==============================] - 100s 214ms/step - loss: 0.0810 - accuracy: 0.9753 - val_loss: 0.5035 - val_accuracy: 0.8383\n",
      "Epoch 6/25\n",
      "466/466 [==============================] - 101s 216ms/step - loss: 0.0828 - accuracy: 0.9752 - val_loss: 0.6897 - val_accuracy: 0.8158\n",
      "Epoch 7/25\n",
      "466/466 [==============================] - 102s 220ms/step - loss: 0.1172 - accuracy: 0.9614 - val_loss: 0.8235 - val_accuracy: 0.7970\n",
      "Epoch 8/25\n",
      "466/466 [==============================] - 102s 219ms/step - loss: 0.0656 - accuracy: 0.9791 - val_loss: 0.6194 - val_accuracy: 0.8571\n",
      "Epoch 9/25\n",
      "466/466 [==============================] - 101s 217ms/step - loss: 0.0660 - accuracy: 0.9787 - val_loss: 0.4808 - val_accuracy: 0.8571\n",
      "Epoch 10/25\n",
      "466/466 [==============================] - 101s 217ms/step - loss: 0.0491 - accuracy: 0.9846 - val_loss: 0.7621 - val_accuracy: 0.8496\n",
      "Epoch 11/25\n",
      "466/466 [==============================] - 101s 217ms/step - loss: 0.0805 - accuracy: 0.9758 - val_loss: 0.8032 - val_accuracy: 0.8383\n",
      "Epoch 12/25\n",
      "466/466 [==============================] - 102s 219ms/step - loss: 0.0650 - accuracy: 0.9798 - val_loss: 0.7376 - val_accuracy: 0.8158\n",
      "Epoch 13/25\n",
      "466/466 [==============================] - 102s 220ms/step - loss: 0.0451 - accuracy: 0.9862 - val_loss: 0.9393 - val_accuracy: 0.8195\n",
      "Epoch 14/25\n",
      "466/466 [==============================] - 101s 217ms/step - loss: 0.0569 - accuracy: 0.9830 - val_loss: 0.5927 - val_accuracy: 0.8534\n",
      "Epoch 15/25\n",
      "466/466 [==============================] - 104s 222ms/step - loss: 0.0334 - accuracy: 0.9907 - val_loss: 1.0680 - val_accuracy: 0.8421\n",
      "Epoch 16/25\n",
      "466/466 [==============================] - 104s 223ms/step - loss: 0.0513 - accuracy: 0.9851 - val_loss: 0.9059 - val_accuracy: 0.8421\n",
      "Epoch 17/25\n",
      "466/466 [==============================] - 104s 223ms/step - loss: 0.0266 - accuracy: 0.9919 - val_loss: 0.8248 - val_accuracy: 0.8609\n",
      "Epoch 18/25\n",
      "466/466 [==============================] - 104s 223ms/step - loss: 0.0758 - accuracy: 0.9771 - val_loss: 1.0322 - val_accuracy: 0.8271\n",
      "Epoch 19/25\n",
      "466/466 [==============================] - 104s 223ms/step - loss: 0.0573 - accuracy: 0.9827 - val_loss: 0.9437 - val_accuracy: 0.8383\n",
      "Epoch 20/25\n",
      "466/466 [==============================] - 104s 223ms/step - loss: 0.0454 - accuracy: 0.9870 - val_loss: 0.6402 - val_accuracy: 0.8684\n",
      "Epoch 21/25\n",
      "466/466 [==============================] - 104s 223ms/step - loss: 0.0066 - accuracy: 0.9981 - val_loss: 0.8418 - val_accuracy: 0.8910\n",
      "Epoch 22/25\n",
      "466/466 [==============================] - 104s 224ms/step - loss: 0.0539 - accuracy: 0.9850 - val_loss: 1.0153 - val_accuracy: 0.8308\n",
      "Epoch 23/25\n",
      "466/466 [==============================] - 103s 222ms/step - loss: 0.0497 - accuracy: 0.9857 - val_loss: 1.0886 - val_accuracy: 0.8308\n",
      "Epoch 24/25\n",
      "466/466 [==============================] - 101s 216ms/step - loss: 0.0154 - accuracy: 0.9958 - val_loss: 0.8649 - val_accuracy: 0.8835\n",
      "Epoch 25/25\n",
      "466/466 [==============================] - 101s 216ms/step - loss: 0.0345 - accuracy: 0.9904 - val_loss: 1.2792 - val_accuracy: 0.8383\n"
     ]
    }
   ],
   "source": [
    "r = model.fit_generator(\n",
    "  training_set,\n",
    "  validation_data=validation,\n",
    "  epochs=25,\n",
    "  steps_per_epoch=len(training_set),\n",
    "  validation_steps=len(validation)\n",
    ")"
   ]
  },
  {
   "cell_type": "code",
   "execution_count": null,
   "metadata": {},
   "outputs": [],
   "source": [
    "for i, layer in enumerate(res .layers):\n",
    "   print(i, layer.name)"
   ]
  },
  {
   "cell_type": "code",
   "execution_count": 29,
   "metadata": {},
   "outputs": [],
   "source": [
    "for layer in model.layers[:130]:\n",
    "   layer.trainable = False\n",
    "for layer in model.layers[130:]:\n",
    "   layer.trainable = True"
   ]
  },
  {
   "cell_type": "code",
   "execution_count": 30,
   "metadata": {},
   "outputs": [],
   "source": [
    "from tensorflow.keras.optimizers import Adam\n",
    "model.compile(optimizer=Adam(lr=0.0001), loss='categorical_crossentropy', metrics=['accuracy'])"
   ]
  },
  {
   "cell_type": "code",
   "execution_count": 31,
   "metadata": {},
   "outputs": [
    {
     "name": "stdout",
     "output_type": "stream",
     "text": [
      "Epoch 1/25\n",
      "  2/466 [..............................] - ETA: 7:52 - loss: 2.3988 - accuracy: 0.5938WARNING:tensorflow:Callbacks method `on_train_batch_end` is slow compared to the batch time (batch time: 0.3550s vs `on_train_batch_end` time: 0.8396s). Check your callbacks.\n",
      "466/466 [==============================] - 559s 1s/step - loss: 0.3425 - accuracy: 0.8999 - val_loss: 0.2529 - val_accuracy: 0.9323\n",
      "Epoch 2/25\n",
      "466/466 [==============================] - 553s 1s/step - loss: 0.0563 - accuracy: 0.9827 - val_loss: 0.2650 - val_accuracy: 0.9323\n",
      "Epoch 3/25\n",
      "466/466 [==============================] - 554s 1s/step - loss: 0.0443 - accuracy: 0.9863 - val_loss: 0.2439 - val_accuracy: 0.9286\n",
      "Epoch 4/25\n",
      "466/466 [==============================] - 553s 1s/step - loss: 0.0506 - accuracy: 0.9841 - val_loss: 0.1723 - val_accuracy: 0.9511\n",
      "Epoch 5/25\n",
      "466/466 [==============================] - 554s 1s/step - loss: 0.0317 - accuracy: 0.9906 - val_loss: 0.1449 - val_accuracy: 0.9436\n",
      "Epoch 6/25\n",
      "466/466 [==============================] - 554s 1s/step - loss: 0.0475 - accuracy: 0.9882 - val_loss: 0.1571 - val_accuracy: 0.9511\n",
      "Epoch 7/25\n",
      "466/466 [==============================] - 554s 1s/step - loss: 0.0234 - accuracy: 0.9936 - val_loss: 0.2304 - val_accuracy: 0.9398\n",
      "Epoch 8/25\n",
      "466/466 [==============================] - 554s 1s/step - loss: 0.0379 - accuracy: 0.9894 - val_loss: 0.1208 - val_accuracy: 0.9549\n",
      "Epoch 9/25\n",
      "466/466 [==============================] - 554s 1s/step - loss: 0.0363 - accuracy: 0.9907 - val_loss: 0.2296 - val_accuracy: 0.9286\n",
      "Epoch 10/25\n",
      "466/466 [==============================] - 554s 1s/step - loss: 0.0203 - accuracy: 0.9952 - val_loss: 0.1598 - val_accuracy: 0.9361\n",
      "Epoch 11/25\n",
      "466/466 [==============================] - 554s 1s/step - loss: 0.0459 - accuracy: 0.9868 - val_loss: 0.2400 - val_accuracy: 0.9286\n",
      "Epoch 12/25\n",
      "466/466 [==============================] - 553s 1s/step - loss: 0.0216 - accuracy: 0.9944 - val_loss: 0.1247 - val_accuracy: 0.9662\n",
      "Epoch 13/25\n",
      "466/466 [==============================] - 554s 1s/step - loss: 0.0279 - accuracy: 0.9917 - val_loss: 0.2167 - val_accuracy: 0.9398\n",
      "Epoch 14/25\n",
      "466/466 [==============================] - 553s 1s/step - loss: 0.0327 - accuracy: 0.9911 - val_loss: 0.1156 - val_accuracy: 0.9812\n",
      "Epoch 15/25\n",
      "466/466 [==============================] - 554s 1s/step - loss: 0.0135 - accuracy: 0.9967 - val_loss: 0.1995 - val_accuracy: 0.9474\n",
      "Epoch 16/25\n",
      "466/466 [==============================] - 553s 1s/step - loss: 0.0241 - accuracy: 0.9934 - val_loss: 0.2535 - val_accuracy: 0.9474\n",
      "Epoch 17/25\n",
      "466/466 [==============================] - 554s 1s/step - loss: 0.0287 - accuracy: 0.9925 - val_loss: 0.2119 - val_accuracy: 0.9549\n",
      "Epoch 18/25\n",
      "466/466 [==============================] - 554s 1s/step - loss: 0.0132 - accuracy: 0.9967 - val_loss: 0.1638 - val_accuracy: 0.9474\n",
      "Epoch 19/25\n",
      "466/466 [==============================] - 554s 1s/step - loss: 0.0256 - accuracy: 0.9925 - val_loss: 0.1584 - val_accuracy: 0.9624\n",
      "Epoch 20/25\n",
      "466/466 [==============================] - 553s 1s/step - loss: 0.0109 - accuracy: 0.9974 - val_loss: 0.0922 - val_accuracy: 0.9662\n",
      "Epoch 21/25\n",
      "466/466 [==============================] - 554s 1s/step - loss: 0.0191 - accuracy: 0.9951 - val_loss: 0.1660 - val_accuracy: 0.9662\n",
      "Epoch 22/25\n",
      "466/466 [==============================] - 554s 1s/step - loss: 0.0248 - accuracy: 0.9933 - val_loss: 0.1275 - val_accuracy: 0.9812\n",
      "Epoch 23/25\n",
      "466/466 [==============================] - 554s 1s/step - loss: 0.0146 - accuracy: 0.9964 - val_loss: 0.1243 - val_accuracy: 0.9774\n",
      "Epoch 24/25\n",
      "466/466 [==============================] - 554s 1s/step - loss: 0.0029 - accuracy: 0.9995 - val_loss: 0.1123 - val_accuracy: 0.9774\n",
      "Epoch 25/25\n",
      "466/466 [==============================] - 554s 1s/step - loss: 4.4473e-04 - accuracy: 0.9999 - val_loss: 0.1161 - val_accuracy: 0.9812\n"
     ]
    }
   ],
   "source": [
    "r = model.fit_generator(\n",
    "  training_set,\n",
    "  validation_data=validation,\n",
    "  epochs=25,\n",
    "  steps_per_epoch=len(training_set),\n",
    "  validation_steps=len(validation)\n",
    ")"
   ]
  },
  {
   "cell_type": "code",
   "execution_count": 32,
   "metadata": {},
   "outputs": [
    {
     "data": {
      "image/png": "[encoded data removed]",
      "text/plain": [
       "<Figure size 432x288 with 1 Axes>"
      ]
     },
     "metadata": {
      "needs_background": "light"
     },
     "output_type": "display_data"
    },
    {
     "data": {
      "image/png": "[encoded data removed]",
      "text/plain": [
       "<Figure size 432x288 with 1 Axes>"
      ]
     },
     "metadata": {
      "needs_background": "light"
     },
     "output_type": "display_data"
    },
    {
     "data": {
      "text/plain": [
       "<Figure size 432x288 with 0 Axes>"
      ]
     },
     "metadata": {},
     "output_type": "display_data"
    }
   ],
   "source": [
    "import matplotlib.pyplot as plt\n",
    "plt.plot(r.history['loss'], label='train loss')\n",
    "plt.plot(r.history['val_loss'], label='val loss')\n",
    "plt.legend()\n",
    "plt.show()\n",
    "plt.savefig('LossVal_loss')\n",
    "\n",
    "\n",
    "plt.plot(r.history['accuracy'], label='train acc')\n",
    "plt.plot(r.history['val_accuracy'], label='val acc')\n",
    "plt.legend()\n",
    "plt.show()\n",
    "plt.savefig('AccVal_acc')"
   ]
  },
  {
   "cell_type": "code",
   "execution_count": 7,
   "metadata": {},
   "outputs": [
    {
     "ename": "NameError",
     "evalue": "name 'test_datagen' is not defined",
     "output_type": "error",
     "traceback": [
      "\u001b[1;31m---------------------------------------------------------------------------\u001b[0m",
      "\u001b[1;31mNameError\u001b[0m                                 Traceback (most recent call last)",
      "\u001b[1;32m<ipython-input-7-8c40361cb82b>\u001b[0m in \u001b[0;36m<module>\u001b[1;34m\u001b[0m\n\u001b[1;32m----> 1\u001b[1;33m test = test_datagen.flow_from_directory('Datasets/augmented_dataset_80_10_10/test',\n\u001b[0m\u001b[0;32m      2\u001b[0m                                             \u001b[0mtarget_size\u001b[0m \u001b[1;33m=\u001b[0m \u001b[1;33m(\u001b[0m\u001b[1;36m224\u001b[0m\u001b[1;33m,\u001b[0m \u001b[1;36m224\u001b[0m\u001b[1;33m)\u001b[0m\u001b[1;33m,\u001b[0m\u001b[1;33m\u001b[0m\u001b[1;33m\u001b[0m\u001b[0m\n\u001b[0;32m      3\u001b[0m                                             \u001b[0mbatch_size\u001b[0m \u001b[1;33m=\u001b[0m \u001b[1;36m32\u001b[0m\u001b[1;33m,\u001b[0m\u001b[1;33m\u001b[0m\u001b[1;33m\u001b[0m\u001b[0m\n\u001b[0;32m      4\u001b[0m                                             class_mode = 'categorical')\n",
      "\u001b[1;31mNameError\u001b[0m: name 'test_datagen' is not defined"
     ]
    }
   ],
   "source": [
    "test = test_datagen.flow_from_directory('Datasets/augmented_dataset_80_10_10/test',\n",
    "                                            target_size = (224, 224),\n",
    "                                            batch_size = 32,\n",
    "                                            class_mode = 'categorical')"
   ]
  },
  {
   "cell_type": "code",
   "execution_count": 6,
   "metadata": {},
   "outputs": [
    {
     "ename": "NameError",
     "evalue": "name 'test' is not defined",
     "output_type": "error",
     "traceback": [
      "\u001b[1;31m---------------------------------------------------------------------------\u001b[0m",
      "\u001b[1;31mNameError\u001b[0m                                 Traceback (most recent call last)",
      "\u001b[1;32m<ipython-input-6-94b4ca6b7ae7>\u001b[0m in \u001b[0;36m<module>\u001b[1;34m\u001b[0m\n\u001b[1;32m----> 1\u001b[1;33m \u001b[0mX_test\u001b[0m\u001b[1;33m,\u001b[0m\u001b[0my_test\u001b[0m\u001b[1;33m=\u001b[0m\u001b[0mtest\u001b[0m\u001b[1;33m.\u001b[0m\u001b[0mnext\u001b[0m\u001b[1;33m(\u001b[0m\u001b[1;33m)\u001b[0m\u001b[1;33m\u001b[0m\u001b[1;33m\u001b[0m\u001b[0m\n\u001b[0m\u001b[0;32m      2\u001b[0m \u001b[0mtest_loss\u001b[0m\u001b[1;33m,\u001b[0m \u001b[0mtest_acc\u001b[0m \u001b[1;33m=\u001b[0m \u001b[0mmodel\u001b[0m\u001b[1;33m.\u001b[0m\u001b[0mevaluate\u001b[0m\u001b[1;33m(\u001b[0m\u001b[0mX_test\u001b[0m\u001b[1;33m,\u001b[0m \u001b[0my_test\u001b[0m\u001b[1;33m)\u001b[0m\u001b[1;33m\u001b[0m\u001b[1;33m\u001b[0m\u001b[0m\n",
      "\u001b[1;31mNameError\u001b[0m: name 'test' is not defined"
     ]
    }
   ],
   "source": [
    "X_test,y_test=test.next()\n",
    "test_loss, test_acc = model.evaluate(X_test, y_test)"
   ]
  },
  {
   "cell_type": "code",
   "execution_count": 5,
   "metadata": {},
   "outputs": [
    {
     "ename": "NameError",
     "evalue": "name 'model' is not defined",
     "output_type": "error",
     "traceback": [
      "\u001b[1;31m---------------------------------------------------------------------------\u001b[0m",
      "\u001b[1;31mNameError\u001b[0m                                 Traceback (most recent call last)",
      "\u001b[1;32m<ipython-input-5-8646be075e12>\u001b[0m in \u001b[0;36m<module>\u001b[1;34m\u001b[0m\n\u001b[1;32m----> 1\u001b[1;33m \u001b[0mY_pred\u001b[0m \u001b[1;33m=\u001b[0m \u001b[0mmodel\u001b[0m\u001b[1;33m.\u001b[0m\u001b[0mpredict\u001b[0m\u001b[1;33m(\u001b[0m\u001b[0mX_test\u001b[0m\u001b[1;33m)\u001b[0m\u001b[1;33m\u001b[0m\u001b[1;33m\u001b[0m\u001b[0m\n\u001b[0m",
      "\u001b[1;31mNameError\u001b[0m: name 'model' is not defined"
     ]
    }
   ],
   "source": [
    "Y_pred = model.predict(X_test)"
   ]
  },
  {
   "cell_type": "code",
   "execution_count": null,
   "metadata": {},
   "outputs": [],
   "source": []
  }
 ],
 "metadata": {
  "kernelspec": {
   "display_name": "TensorFlow",
   "language": "python",
   "name": "tensorflow"
  },
  "language_info": {
   "codemirror_mode": {
    "name": "ipython",
    "version": 3
   },
   "file_extension": ".py",
   "mimetype": "text/x-python",
   "name": "python",
   "nbconvert_exporter": "python",
   "pygments_lexer": "ipython3",
   "version": "3.8.5"
  }
 },
 "nbformat": 4,
 "nbformat_minor": 4
}
